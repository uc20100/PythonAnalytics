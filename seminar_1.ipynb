{
 "cells": [
  {
   "cell_type": "markdown",
   "id": "10c7e096",
   "metadata": {},
   "source": [
    "# ДЗ по \"Основы языка Python для аналитиков (семинары)\"  \n",
    "\n",
    "## Семинар 1. Оформление ноутбука и закрепление функций и генераторов"
   ]
  },
  {
   "cell_type": "markdown",
   "id": "430acd88",
   "metadata": {},
   "source": [
    "## Задача 1  \n",
    "Оформляйте ноутбук, используя эти советы:  \n",
    "- Номер задачи - заголовок 2  \n",
    "- Номер подзадачи - заголовок 3  \n",
    "- Предоставленные наборы данных оформляйте, как код  \n",
    "\n",
    "*Рекомендации для преподавателей по оценке задания:    \n",
    "Смотреть, чтобы студент красиво оформлял ноутбук, использовал ячейки с текстом, указывал номера заданий*   "
   ]
  },
  {
   "cell_type": "markdown",
   "id": "964eed13",
   "metadata": {},
   "source": [
    "## Задача 2\n",
    "### Задача 2.1\n",
    "На складе лежат разные фрукты в разном количестве.\n",
    "Нужно написать функцию, которая на вход принимает любое количество названий фруктов и их количество, а возвращает общее количество фруктов на складе, при помощи использования kwargs\n"
   ]
  },
  {
   "cell_type": "code",
   "execution_count": 11,
   "id": "6d4a9e3e",
   "metadata": {},
   "outputs": [
    {
     "name": "stdout",
     "output_type": "stream",
     "text": [
      "Общее количество фруктов на складе: 10\n"
     ]
    }
   ],
   "source": [
    "def sum_fruits(**kwargs):\n",
    "    return sum(kwargs.values())\n",
    "\n",
    "print(f'Общее количество фруктов на складе: {sum_fruits(Апельсины=3, Мандарины=4, Яблоки=3)}') \n",
    "  "
   ]
  },
  {
   "cell_type": "markdown",
   "id": "607d85c0",
   "metadata": {},
   "source": [
    "### Задача 2.2  \n",
    "На складе лежат разные фрукты в разном количестве.\n",
    "Нужно написать функцию, которая на вход принимает любое количество названий фруктов и их количество, а возвращает общее количество фруктов на складе"
   ]
  },
  {
   "cell_type": "code",
   "execution_count": 12,
   "id": "740ebaee",
   "metadata": {},
   "outputs": [
    {
     "name": "stdout",
     "output_type": "stream",
     "text": [
      "Общее количество фруктов на складе: 10\n"
     ]
    }
   ],
   "source": [
    "oranges = {'Апельсины':3}\n",
    "mandarine = {'Мандарины':4}\n",
    "apples = {'Яблоки':3}\n",
    "\n",
    "def sum_fruits2(*args: dict):\n",
    "    result_dict = {}\n",
    "    for i in args:\n",
    "        result_dict = result_dict | i\n",
    "    return sum(result_dict.values())\n",
    "\n",
    "print(f'Общее количество фруктов на складе: {sum_fruits2(oranges, mandarine, apples)}')   "
   ]
  },
  {
   "cell_type": "markdown",
   "id": "61a8926d",
   "metadata": {},
   "source": [
    "## Задача 3  \n",
    "Дан список с затратами на рекламу. Но в данных есть ошибки, некоторые затраты имеют отрицательную величину. Удалите такие значения из списка и посчитайте суммарные затраты  \n",
    "\n",
    "    [100, 125, -90, 345, 655, -1, 0, 200]  \n",
    "\n",
    "Используйте list comprehensions"
   ]
  },
  {
   "cell_type": "code",
   "execution_count": 13,
   "id": "7145010c",
   "metadata": {},
   "outputs": [
    {
     "name": "stdout",
     "output_type": "stream",
     "text": [
      "[100, 125, 345, 655, 0, 200]\n",
      "1425\n"
     ]
    }
   ],
   "source": [
    "data_list = [100, 125, -90, 345, 655, -1, 0, 200]\n",
    "result_list = [i for i in data_list if i>=0]\n",
    "print(f'{result_list}')\n",
    "print(f'{sum(result_list)}')\n"
   ]
  },
  {
   "cell_type": "markdown",
   "id": "8433b2f5",
   "metadata": {},
   "source": [
    "## Условие 4  \n",
    "Даны два списка.  \n",
    "\n",
    "Дата покупки  \n",
    "\n",
    "    ['2021-09-14', '2021-12-15', '2021-09-08', '2021-12-05', '2021-10-09', '2021-09-30', '2021-12-22', '2021-11-29', '2021-12-24', '2021-11-26', '2021-10-27', '2021-12-18', '2021-11-09', '2021-11-23', '2021-09-27', '2021-10-02', '2021-12-27', '2021-09-20', '2021-12-13', '2021-11-01', '2021-11-09', '2021-12-06', '2021-12-08', '2021-10-09', '2021-10-31', '2021-09-30', '2021-11-09', '2021-12-13', '2021-10-26', '2021-12-09']\n",
    "\n",
    "Суммы покупок по датам \n",
    "\n",
    "    [1270, 8413, 9028, 3703, 5739, 4095, 295, 4944, 5723, 3701, 4471, 651, 7037, 4274, 6275, 4988, 6930, 2971, 6592, 2004, 2822, 519, 3406, 2732, 5015, 2008, 316, 6333, 5700, 2887] \n",
    "    \n",
    "### 4.1 Найдите, какая выручка у компании в ноябре\n",
    "Используйте list comprehensions "
   ]
  },
  {
   "cell_type": "code",
   "execution_count": 16,
   "id": "5c21d230",
   "metadata": {},
   "outputs": [
    {
     "name": "stdout",
     "output_type": "stream",
     "text": [
      "Выручка в ноябре: 25098\n"
     ]
    }
   ],
   "source": [
    "date_buy = ['2021-09-14', '2021-12-15', '2021-09-08', '2021-12-05', '2021-10-09', '2021-09-30', '2021-12-22', '2021-11-29', '2021-12-24', '2021-11-26', '2021-10-27', '2021-12-18', '2021-11-09', '2021-11-23', '2021-09-27', '2021-10-02', '2021-12-27', '2021-09-20', '2021-12-13', '2021-11-01', '2021-11-09', '2021-12-06', '2021-12-08', '2021-10-09', '2021-10-31', '2021-09-30', '2021-11-09', '2021-12-13', '2021-10-26', '2021-12-09']\n",
    "price_buy = [1270, 8413, 9028, 3703, 5739, 4095, 295, 4944, 5723, 3701, 4471, 651, 7037, 4274, 6275, 4988, 6930, 2971, 6592, 2004, 2822, 519, 3406, 2732, 5015, 2008, 316, 6333, 5700, 2887]\n",
    "\n",
    "november_price = [price_buy[i] for i in range(len(date_buy)) if (date_buy[i][5]=='1' and date_buy[i][6]=='1')]\n",
    "print(f'Выручка в ноябре: {sum(november_price)}')"
   ]
  },
  {
   "cell_type": "markdown",
   "id": "4d3b54d0",
   "metadata": {},
   "source": [
    "### 4.2 Найдите выручку компании в зависимости от месяца  \n",
    "Для этого напишите функцию, которая на вход принимает список с датами и список с выручкой, а на выходе словарь, где ключи - это месяцы, а значения - это выручка.\n",
    "Используйте аннотирование типов."
   ]
  },
  {
   "cell_type": "code",
   "execution_count": 5,
   "id": "620f5ebd",
   "metadata": {},
   "outputs": [
    {
     "data": {
      "text/plain": [
       "{'09': 25647, '12': 45452, '10': 28645, '11': 25098}"
      ]
     },
     "execution_count": 5,
     "metadata": {},
     "output_type": "execute_result"
    }
   ],
   "source": [
    "import datetime\n",
    "\n",
    "def itog(data_value:list, price_value:list) -> dict:\n",
    "    incom_by_month = {}\n",
    "    for i in range(len(data_value)):\n",
    "        month = data_value[i].split('-')[1]\n",
    "        if month in incom_by_month.keys():\n",
    "            incom_by_month[month] += price_value[i]\n",
    "        else:\n",
    "            incom_by_month[month] = price_value[i]\n",
    "    return incom_by_month\n",
    "              \n",
    "itog(date_buy,price_buy)\n",
    "    "
   ]
  },
  {
   "cell_type": "code",
   "execution_count": null,
   "id": "4bb998b9",
   "metadata": {},
   "outputs": [],
   "source": []
  }
 ],
 "metadata": {
  "kernelspec": {
   "display_name": "Python 3",
   "language": "python",
   "name": "python3"
  },
  "language_info": {
   "codemirror_mode": {
    "name": "ipython",
    "version": 3
   },
   "file_extension": ".py",
   "mimetype": "text/x-python",
   "name": "python",
   "nbconvert_exporter": "python",
   "pygments_lexer": "ipython3",
   "version": "3.10.10"
  },
  "vscode": {
   "interpreter": {
    "hash": "5600c3658c0be54e728cad154baeffd01f0925f0f2a42ad615e4384823cb295b"
   }
  }
 },
 "nbformat": 4,
 "nbformat_minor": 5
}
